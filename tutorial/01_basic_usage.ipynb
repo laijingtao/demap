{
 "cells": [
  {
   "attachments": {},
   "cell_type": "markdown",
   "metadata": {},
   "source": [
    "# Basic usage of `DEMAP`\n",
    "\n",
    "In this notebook, we will see how to install and use `DEMAP` to extract river\n",
    "network from DEM.\n",
    "\n",
    "## Install `DEMAP`\n",
    "\n",
    "Download the source code from Github and install it using `pip` locally:\n",
    "\n",
    "```Shell\n",
    "git clone https://github.com/laijingtao/demap.git\n",
    "pip install ./demap\n",
    "```"
   ]
  },
  {
   "cell_type": "code",
   "execution_count": null,
   "metadata": {},
   "outputs": [],
   "source": [
    "import demap"
   ]
  },
  {
   "attachments": {},
   "cell_type": "markdown",
   "metadata": {},
   "source": [
    "## Accelerate with `Numba`\n",
    "\n",
    "Many methods in `DEMAP` can be accelerated using `Numba`. If `Numba` is already\n",
    "installed, these methods will automatically detect it and run much faster.\n",
    "[Here](https://numba.pydata.org/numba-doc/latest/user/installing.html) is the\n",
    "guide for installing `Numba`."
   ]
  },
  {
   "attachments": {},
   "cell_type": "markdown",
   "metadata": {},
   "source": [
    "## Process DEM\n",
    "`demap.process_dem()` provides an \"all-in-one\" method to process the DEM file.\n",
    "\n",
    "It fills the local depressions in DEM, calculate flow direction and drainage\n",
    "area, and generate a stream network."
   ]
  },
  {
   "cell_type": "code",
   "execution_count": null,
   "metadata": {},
   "outputs": [],
   "source": [
    "demfile = 'olympics_500m_dem.tif'\n",
    "res = demap.process_dem(demfile, drainage_area_threshold=1e5, base_level=0.5)"
   ]
  },
  {
   "attachments": {},
   "cell_type": "markdown",
   "metadata": {},
   "source": [
    "`demap.process_dem()` returns a python dictionary that contains the DEM data, \n",
    "stream network data, and some other relative information.\n",
    "\n",
    "What is useful for us is the DEM and stream network."
   ]
  },
  {
   "cell_type": "code",
   "execution_count": null,
   "metadata": {},
   "outputs": [],
   "source": [
    "dem = res['dem']\n",
    "stream_network = res['stream_network']"
   ]
  },
  {
   "attachments": {},
   "cell_type": "markdown",
   "metadata": {},
   "source": [
    "The river network is stored as a `demap.StreamNetwork` object.\n",
    "\n",
    "We can save the stream network in shapefile to view it in GIS software:"
   ]
  },
  {
   "cell_type": "code",
   "execution_count": null,
   "metadata": {},
   "outputs": [],
   "source": [
    "demap.network_to_shp(stream_network, 'demap_stream_network')"
   ]
  },
  {
   "attachments": {},
   "cell_type": "markdown",
   "metadata": {},
   "source": [
    "## Extract a stream (or river, channel, valley, etc.)\n",
    "Given a channel head, we can extract a stream from the stream network:"
   ]
  },
  {
   "cell_type": "code",
   "execution_count": null,
   "metadata": {},
   "outputs": [],
   "source": [
    "head_x, head_y = 454435, 5292993\n",
    "example_stream = stream_network.extract_from_xy(head_x, head_y, direction='down')"
   ]
  },
  {
   "attachments": {},
   "cell_type": "markdown",
   "metadata": {},
   "source": [
    "`StreamNetwork.extract_from_xy()` returns a new `StreamNetwork` with only extracted sub-network.\n",
    "\n",
    "This means `example_stream` is a `StreamNetwork` with only one stream, and we want to convert it to a `Stream` object."
   ]
  },
  {
   "cell_type": "code",
   "execution_count": null,
   "metadata": {},
   "outputs": [],
   "source": [
    "example_stream = example_stream.to_streams()[0]"
   ]
  },
  {
   "attachments": {},
   "cell_type": "markdown",
   "metadata": {},
   "source": [
    "and then plot its longitudinal profile:"
   ]
  },
  {
   "cell_type": "code",
   "execution_count": null,
   "metadata": {},
   "outputs": [],
   "source": [
    "import matplotlib.pyplot as plt\n",
    "plt.plot(example_stream.dataset['distance_upstream'], example_stream.get_value(dem))"
   ]
  },
  {
   "attachments": {},
   "cell_type": "markdown",
   "metadata": {},
   "source": [
    "A stream (or river, channel, valley, etc.) is stored as a `demap.Stream` object.\n",
    "`Stream.dataset` is a `xarray.Dataset` that contains the data associated with\n",
    "the stream. For example, we use `distance_upstream` in the above code.\n",
    "\n",
    "In addition, `demap.Stream` provides a group of useful methods. We use\n",
    "`Stream.get_value()` to extract the elevation along the stream from the DEM\n",
    "data."
   ]
  },
  {
   "attachments": {},
   "cell_type": "markdown",
   "metadata": {},
   "source": [
    "Get the x, y coordinates of this stream:"
   ]
  },
  {
   "cell_type": "code",
   "execution_count": null,
   "metadata": {},
   "outputs": [],
   "source": [
    "x, y = example_stream.xy()\n",
    "print(x, y)"
   ]
  },
  {
   "attachments": {},
   "cell_type": "markdown",
   "metadata": {},
   "source": [
    "or latitude, longitude:"
   ]
  },
  {
   "cell_type": "code",
   "execution_count": null,
   "metadata": {},
   "outputs": [],
   "source": [
    "lat, lon = example_stream.latlon()\n",
    "print(lat, lon)"
   ]
  },
  {
   "attachments": {},
   "cell_type": "markdown",
   "metadata": {},
   "source": [
    "Extract a valley cross-sectional profile and plot:"
   ]
  },
  {
   "cell_type": "code",
   "execution_count": null,
   "metadata": {},
   "outputs": [],
   "source": [
    "swath = demap.valley_xsec_at_xy(dem, example_stream, x=444689, y=5285903, length=5e3) # length of the cross-sectional profile\n",
    "plt.plot(swath.dist, swath.z)"
   ]
  },
  {
   "attachments": {},
   "cell_type": "markdown",
   "metadata": {},
   "source": [
    "Extract a series of valley cross-sectional profiles:"
   ]
  },
  {
   "cell_type": "code",
   "execution_count": null,
   "metadata": {},
   "outputs": [],
   "source": [
    "swath_list, anchor_point_list = demap.xsec_along_valley(dem, example_stream, length=5e3, spacing=5e3) # spacing controls the distance between two cross sections.\n",
    "\n",
    "for swath in swath_list:\n",
    "    plt.plot(swath.dist, swath.z)"
   ]
  },
  {
   "attachments": {},
   "cell_type": "markdown",
   "metadata": {},
   "source": [
    "## Extract the stream network in a catchment\n",
    "\n",
    "Given an outlet, we can call `extract_from_xy(direction='up')` to extract\n",
    "streams upstream, i.e., the stream network in a catchment."
   ]
  },
  {
   "cell_type": "code",
   "execution_count": null,
   "metadata": {},
   "outputs": [],
   "source": [
    "outlet_x, outlet_y = 403689, 5266903\n",
    "example_network = stream_network.extract_from_xy(outlet_x, outlet_y, direction='up')"
   ]
  },
  {
   "attachments": {},
   "cell_type": "markdown",
   "metadata": {},
   "source": [
    "Convert this network into a list of streams:"
   ]
  },
  {
   "cell_type": "code",
   "execution_count": null,
   "metadata": {},
   "outputs": [],
   "source": [
    "example_stream_list = example_network.to_streams()"
   ]
  },
  {
   "attachments": {},
   "cell_type": "markdown",
   "metadata": {},
   "source": [
    "and then plot the longitudinal profiles of all streams:"
   ]
  },
  {
   "cell_type": "code",
   "execution_count": null,
   "metadata": {},
   "outputs": [],
   "source": [
    "for s in example_stream_list:\n",
    "    plt.plot(s.dataset['distance_upstream'], s.get_value(dem))"
   ]
  },
  {
   "cell_type": "markdown",
   "metadata": {},
   "source": [
    "## Merge two `StreamNetwork` objects"
   ]
  },
  {
   "cell_type": "code",
   "execution_count": null,
   "metadata": {},
   "outputs": [],
   "source": [
    "sn1 = stream_network.extract_from_xy(452679.5,5294614.3, direction='down')\n",
    "sn2 = stream_network.extract_from_xy(455160.9,5293049.7, direction='down')"
   ]
  },
  {
   "cell_type": "code",
   "execution_count": null,
   "metadata": {},
   "outputs": [],
   "source": [
    "merged = demap.merge_stream_network(sn1, sn2)"
   ]
  },
  {
   "cell_type": "code",
   "execution_count": null,
   "metadata": {},
   "outputs": [],
   "source": [
    "for s in merged.to_streams():\n",
    "    plt.plot(s.dataset['distance_upstream'], s.get_value(dem))"
   ]
  },
  {
   "cell_type": "code",
   "execution_count": null,
   "metadata": {},
   "outputs": [],
   "source": []
  }
 ],
 "metadata": {
  "kernelspec": {
   "display_name": "gis",
   "language": "python",
   "name": "gis"
  },
  "language_info": {
   "codemirror_mode": {
    "name": "ipython",
    "version": 3
   },
   "file_extension": ".py",
   "mimetype": "text/x-python",
   "name": "python",
   "nbconvert_exporter": "python",
   "pygments_lexer": "ipython3",
   "version": "3.10.9"
  },
  "orig_nbformat": 4
 },
 "nbformat": 4,
 "nbformat_minor": 2
}
