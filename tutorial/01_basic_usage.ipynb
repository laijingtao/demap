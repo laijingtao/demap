{
 "cells": [
  {
   "attachments": {},
   "cell_type": "markdown",
   "metadata": {},
   "source": [
    "# Basic usage of `DEMAP`\n",
    "\n",
    "In this notebook, we will see how to install and use `DEMAP` to extract river\n",
    "network from DEM.\n",
    "\n",
    "## Install `DEMAP`\n",
    "\n",
    "Download the source code from Github and install it using `pip` locally:\n",
    "\n",
    "```Shell\n",
    "git clone https://github.com/laijingtao/demap.git\n",
    "pip install ./demap\n",
    "```"
   ]
  },
  {
   "cell_type": "code",
   "execution_count": 1,
   "metadata": {},
   "outputs": [],
   "source": [
    "import demap"
   ]
  },
  {
   "attachments": {},
   "cell_type": "markdown",
   "metadata": {},
   "source": [
    "## Accelerate with `Numba`\n",
    "\n",
    "Many methods in `DEMAP` can be accelerated using `Numba`. If `Numba` is already\n",
    "installed, these methods will automatically detect it and run much faster.\n",
    "[Here](https://numba.pydata.org/numba-doc/latest/user/installing.html) is the\n",
    "guide for installing `Numba`."
   ]
  },
  {
   "attachments": {},
   "cell_type": "markdown",
   "metadata": {},
   "source": [
    "## Load DEM"
   ]
  },
  {
   "cell_type": "code",
   "execution_count": 2,
   "metadata": {},
   "outputs": [],
   "source": [
    "dem_ds = demap.load_dem('olympics_500m_dem.tif')"
   ]
  },
  {
   "cell_type": "markdown",
   "metadata": {},
   "source": [
    "`dem_ds` is a `xr.Dataset` contains the DEM and relevant geospatial information.\n",
    "\n",
    "`Demap` is built around `Xarray`, and most methods can be used through demap's xarray [accessor](https://docs.xarray.dev/en/latest/internals/extending-xarray.html).\n",
    "\n",
    "For example, the following `process_dem` method will fill the local depressions in DEM, calculate flow direction and drainage area. These informaiton will be stored in `dem_ds`."
   ]
  },
  {
   "cell_type": "code",
   "execution_count": null,
   "metadata": {},
   "outputs": [],
   "source": [
    "dem_ds.demap.process_dem()"
   ]
  },
  {
   "cell_type": "markdown",
   "metadata": {},
   "source": [
    "`dem_ds` can be saved as a netcdf file for future use:"
   ]
  },
  {
   "cell_type": "code",
   "execution_count": 4,
   "metadata": {},
   "outputs": [],
   "source": [
    "dem_ds.to_netcdf('olympics_500m_dem_processed.nc')"
   ]
  },
  {
   "cell_type": "markdown",
   "metadata": {},
   "source": [
    "Saved results can be loaded again (note `decode_coords=\"all\"` is necessary to load the geospatial information):"
   ]
  },
  {
   "cell_type": "code",
   "execution_count": 5,
   "metadata": {},
   "outputs": [],
   "source": [
    "import xarray as xr\n",
    "\n",
    "dem_ds = xr.load_dataset('olympics_500m_dem_processed.nc', decode_coords=\"all\")"
   ]
  },
  {
   "cell_type": "markdown",
   "metadata": {},
   "source": [
    "## Build a stream network"
   ]
  },
  {
   "cell_type": "markdown",
   "metadata": {},
   "source": [
    "Given a drainage area threshold for stream head, a network of streams can be built from the flow direction information stored in `dem_ds`:"
   ]
  },
  {
   "cell_type": "code",
   "execution_count": 6,
   "metadata": {},
   "outputs": [],
   "source": [
    "stream_ds = dem_ds.demap.build_stream_network(drainage_area_threshold=1e6)"
   ]
  },
  {
   "cell_type": "markdown",
   "metadata": {},
   "source": [
    "We can save the stream network in shapefile to view it in GIS software:"
   ]
  },
  {
   "cell_type": "code",
   "execution_count": 10,
   "metadata": {},
   "outputs": [],
   "source": [
    "demap.network_to_shp(stream_ds, 'olympics_500m_stream.shp')"
   ]
  },
  {
   "attachments": {},
   "cell_type": "markdown",
   "metadata": {},
   "source": [
    "## Extract a catchment\n",
    "\n",
    "Given an outlet, we can extract the stream network in a catchment."
   ]
  },
  {
   "cell_type": "code",
   "execution_count": 7,
   "metadata": {},
   "outputs": [],
   "source": [
    "outlet_x, outlet_y = 403689, 5266903\n",
    "example_network = stream_ds.demap.extract_from_xy(outlet_x, outlet_y, direction='up')"
   ]
  },
  {
   "attachments": {},
   "cell_type": "markdown",
   "metadata": {},
   "source": [
    "Split this network into a list of streams:"
   ]
  },
  {
   "cell_type": "code",
   "execution_count": 8,
   "metadata": {},
   "outputs": [],
   "source": [
    "example_stream_list = example_network.demap.split_stream_network()"
   ]
  },
  {
   "attachments": {},
   "cell_type": "markdown",
   "metadata": {},
   "source": [
    "and then plot the longitudinal profiles of all streams:"
   ]
  },
  {
   "cell_type": "code",
   "execution_count": null,
   "metadata": {},
   "outputs": [],
   "source": [
    "import matplotlib.pyplot as plt\n",
    "\n",
    "for s in example_stream_list:\n",
    "    plt.plot(s['distance_upstream'], s.demap.get_value(dem_ds['dem']))"
   ]
  },
  {
   "cell_type": "markdown",
   "metadata": {},
   "source": [
    "`get_value()` can extract the relevant values along the stream from some given data. Here, we use it to extract elevation along the stream."
   ]
  },
  {
   "cell_type": "markdown",
   "metadata": {},
   "source": [
    "### Visualize the stream network\n",
    "\n",
    "`Demap` provides some quick visualization methods:"
   ]
  },
  {
   "cell_type": "code",
   "execution_count": null,
   "metadata": {},
   "outputs": [],
   "source": [
    "plt.figure(figsize=(10, 10))\n",
    "ax = plt.gca()\n",
    "\n",
    "dem_ds.demap.plot_hillshade(ax, clip_ref=example_network, clip_padding=2e3)\n",
    "example_network.demap.plot_stream(ax)"
   ]
  }
 ],
 "metadata": {
  "kernelspec": {
   "display_name": "gis",
   "language": "python",
   "name": "python3"
  },
  "language_info": {
   "codemirror_mode": {
    "name": "ipython",
    "version": 3
   },
   "file_extension": ".py",
   "mimetype": "text/x-python",
   "name": "python",
   "nbconvert_exporter": "python",
   "pygments_lexer": "ipython3",
   "version": "3.10.9"
  },
  "orig_nbformat": 4
 },
 "nbformat": 4,
 "nbformat_minor": 2
}
